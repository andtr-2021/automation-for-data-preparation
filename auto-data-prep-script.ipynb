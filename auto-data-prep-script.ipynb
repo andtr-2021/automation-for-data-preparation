{
 "cells": [
  {
   "cell_type": "code",
   "execution_count": 2,
   "metadata": {},
   "outputs": [],
   "source": [
    "import os \n",
    "import pandas as pd\n",
    "import numpy as np\n",
    "import cv2\n",
    "from sklearn.model_selection import train_test_split"
   ]
  },
  {
   "cell_type": "code",
   "execution_count": 3,
   "metadata": {},
   "outputs": [
    {
     "ename": "NotADirectoryError",
     "evalue": "[Errno 20] Not a directory: 'ripe_or_not/.DS_Store'",
     "output_type": "error",
     "traceback": [
      "\u001b[0;31m---------------------------------------------------------------------------\u001b[0m",
      "\u001b[0;31mNotADirectoryError\u001b[0m                        Traceback (most recent call last)",
      "\u001b[1;32m/Users/andtr/Documents/ai/automation-for-data-preparation/auto-data-prep-script.ipynb Cell 2\u001b[0m line \u001b[0;36m9\n\u001b[1;32m      <a href='vscode-notebook-cell:/Users/andtr/Documents/ai/automation-for-data-preparation/auto-data-prep-script.ipynb#W1sZmlsZQ%3D%3D?line=5'>6</a>\u001b[0m \u001b[39mfor\u001b[39;00m folder \u001b[39min\u001b[39;00m os\u001b[39m.\u001b[39mlistdir(data_folder):\n\u001b[1;32m      <a href='vscode-notebook-cell:/Users/andtr/Documents/ai/automation-for-data-preparation/auto-data-prep-script.ipynb#W1sZmlsZQ%3D%3D?line=6'>7</a>\u001b[0m     curr_path \u001b[39m=\u001b[39m os\u001b[39m.\u001b[39mpath\u001b[39m.\u001b[39mjoin(data_folder, folder)\n\u001b[0;32m----> <a href='vscode-notebook-cell:/Users/andtr/Documents/ai/automation-for-data-preparation/auto-data-prep-script.ipynb#W1sZmlsZQ%3D%3D?line=8'>9</a>\u001b[0m     \u001b[39mfor\u001b[39;00m file \u001b[39min\u001b[39;00m os\u001b[39m.\u001b[39;49mlistdir(curr_path):\n\u001b[1;32m     <a href='vscode-notebook-cell:/Users/andtr/Documents/ai/automation-for-data-preparation/auto-data-prep-script.ipynb#W1sZmlsZQ%3D%3D?line=9'>10</a>\u001b[0m         curr_file \u001b[39m=\u001b[39m os\u001b[39m.\u001b[39mpath\u001b[39m.\u001b[39mjoin(curr_path, file)\n\u001b[1;32m     <a href='vscode-notebook-cell:/Users/andtr/Documents/ai/automation-for-data-preparation/auto-data-prep-script.ipynb#W1sZmlsZQ%3D%3D?line=11'>12</a>\u001b[0m         image \u001b[39m=\u001b[39m cv2\u001b[39m.\u001b[39mimread(curr_file)\n",
      "\u001b[0;31mNotADirectoryError\u001b[0m: [Errno 20] Not a directory: 'ripe_or_not/.DS_Store'"
     ]
    }
   ],
   "source": [
    "X = []\n",
    "y = []\n",
    "\n",
    "data_folder = 'ripe_or_not'\n",
    "\n",
    "for folder in os.listdir(data_folder):\n",
    "    curr_path = os.path.join(data_folder, folder)\n",
    "\n",
    "    for file in os.listdir(curr_path):\n",
    "        curr_file = os.path.join(curr_path, file)\n",
    "\n",
    "        image = cv2.imread(curr_file)\n",
    "        X.append(image)\n",
    "        y.append(folder)\n",
    "\n",
    "\n",
    "\n",
    "print(X.shape)\n",
    "print(y.shape)\n",
    "\n",
    "       \n",
    "\n"
   ]
  }
 ],
 "metadata": {
  "kernelspec": {
   "display_name": "Python 3",
   "language": "python",
   "name": "python3"
  },
  "language_info": {
   "codemirror_mode": {
    "name": "ipython",
    "version": 3
   },
   "file_extension": ".py",
   "mimetype": "text/x-python",
   "name": "python",
   "nbconvert_exporter": "python",
   "pygments_lexer": "ipython3",
   "version": "3.11.5"
  },
  "orig_nbformat": 4
 },
 "nbformat": 4,
 "nbformat_minor": 2
}
